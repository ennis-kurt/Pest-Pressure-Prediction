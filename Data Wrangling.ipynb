{
 "cells": [
  {
   "cell_type": "markdown",
   "metadata": {},
   "source": [
    "In this Notebook I do data transformation, handle missing values and preprocess the data to use it in the next step, exploratory analysis. Here I also do some EDA but only for the purpose of data wrangling. I do the main EDA on eda.ipynb notebook."
   ]
  },
  {
   "cell_type": "code",
   "execution_count": 9,
   "metadata": {},
   "outputs": [],
   "source": [
    "import numpy as np\n",
    "import pandas as pd"
   ]
  },
  {
   "cell_type": "code",
   "execution_count": 3,
   "metadata": {},
   "outputs": [
    {
     "data": {
      "text/html": [
       "<div>\n",
       "<style scoped>\n",
       "    .dataframe tbody tr th:only-of-type {\n",
       "        vertical-align: middle;\n",
       "    }\n",
       "\n",
       "    .dataframe tbody tr th {\n",
       "        vertical-align: top;\n",
       "    }\n",
       "\n",
       "    .dataframe thead th {\n",
       "        text-align: right;\n",
       "    }\n",
       "</style>\n",
       "<table border=\"1\" class=\"dataframe\">\n",
       "  <thead>\n",
       "    <tr style=\"text-align: right;\">\n",
       "      <th></th>\n",
       "      <th>trap_id_id</th>\n",
       "      <th>date</th>\n",
       "      <th>crop_name</th>\n",
       "      <th>region</th>\n",
       "      <th>pest</th>\n",
       "      <th>trap_count</th>\n",
       "      <th>form_submission_date</th>\n",
       "      <th>is_sticky_sheet_replaced</th>\n",
       "      <th>lat</th>\n",
       "      <th>lon</th>\n",
       "    </tr>\n",
       "  </thead>\n",
       "  <tbody>\n",
       "    <tr>\n",
       "      <th>0</th>\n",
       "      <td>27</td>\n",
       "      <td>5/25/20</td>\n",
       "      <td>Broccoli</td>\n",
       "      <td>California</td>\n",
       "      <td>Diamondback moth</td>\n",
       "      <td>79.0</td>\n",
       "      <td>5/25/20</td>\n",
       "      <td>True</td>\n",
       "      <td>35.188384</td>\n",
       "      <td>-118.826319</td>\n",
       "    </tr>\n",
       "    <tr>\n",
       "      <th>1</th>\n",
       "      <td>27</td>\n",
       "      <td>5/26/20</td>\n",
       "      <td>Broccoli</td>\n",
       "      <td>California</td>\n",
       "      <td>Diamondback moth</td>\n",
       "      <td>NaN</td>\n",
       "      <td>NaN</td>\n",
       "      <td>False</td>\n",
       "      <td>35.188384</td>\n",
       "      <td>-118.826319</td>\n",
       "    </tr>\n",
       "    <tr>\n",
       "      <th>2</th>\n",
       "      <td>27</td>\n",
       "      <td>5/27/20</td>\n",
       "      <td>Broccoli</td>\n",
       "      <td>California</td>\n",
       "      <td>Diamondback moth</td>\n",
       "      <td>NaN</td>\n",
       "      <td>NaN</td>\n",
       "      <td>False</td>\n",
       "      <td>35.188384</td>\n",
       "      <td>-118.826319</td>\n",
       "    </tr>\n",
       "    <tr>\n",
       "      <th>3</th>\n",
       "      <td>27</td>\n",
       "      <td>5/28/20</td>\n",
       "      <td>Broccoli</td>\n",
       "      <td>California</td>\n",
       "      <td>Diamondback moth</td>\n",
       "      <td>NaN</td>\n",
       "      <td>NaN</td>\n",
       "      <td>False</td>\n",
       "      <td>35.188384</td>\n",
       "      <td>-118.826319</td>\n",
       "    </tr>\n",
       "    <tr>\n",
       "      <th>4</th>\n",
       "      <td>27</td>\n",
       "      <td>5/29/20</td>\n",
       "      <td>Broccoli</td>\n",
       "      <td>California</td>\n",
       "      <td>Diamondback moth</td>\n",
       "      <td>112.0</td>\n",
       "      <td>5/29/20</td>\n",
       "      <td>True</td>\n",
       "      <td>35.188384</td>\n",
       "      <td>-118.826319</td>\n",
       "    </tr>\n",
       "  </tbody>\n",
       "</table>\n",
       "</div>"
      ],
      "text/plain": [
       "   trap_id_id     date crop_name      region              pest  trap_count  \\\n",
       "0          27  5/25/20  Broccoli  California  Diamondback moth        79.0   \n",
       "1          27  5/26/20  Broccoli  California  Diamondback moth         NaN   \n",
       "2          27  5/27/20  Broccoli  California  Diamondback moth         NaN   \n",
       "3          27  5/28/20  Broccoli  California  Diamondback moth         NaN   \n",
       "4          27  5/29/20  Broccoli  California  Diamondback moth       112.0   \n",
       "\n",
       "  form_submission_date  is_sticky_sheet_replaced        lat         lon  \n",
       "0              5/25/20                      True  35.188384 -118.826319  \n",
       "1                  NaN                     False  35.188384 -118.826319  \n",
       "2                  NaN                     False  35.188384 -118.826319  \n",
       "3                  NaN                     False  35.188384 -118.826319  \n",
       "4              5/29/20                      True  35.188384 -118.826319  "
      ]
     },
     "execution_count": 3,
     "metadata": {},
     "output_type": "execute_result"
    }
   ],
   "source": [
    "df = pd.read_csv('data/field_trap_data.csv')\n",
    "df.head()"
   ]
  },
  {
   "cell_type": "code",
   "execution_count": 4,
   "metadata": {},
   "outputs": [
    {
     "name": "stdout",
     "output_type": "stream",
     "text": [
      "<class 'pandas.core.frame.DataFrame'>\n",
      "RangeIndex: 605 entries, 0 to 604\n",
      "Data columns (total 10 columns):\n",
      " #   Column                    Non-Null Count  Dtype  \n",
      "---  ------                    --------------  -----  \n",
      " 0   trap_id_id                605 non-null    int64  \n",
      " 1   date                      605 non-null    object \n",
      " 2   crop_name                 605 non-null    object \n",
      " 3   region                    423 non-null    object \n",
      " 4   pest                      605 non-null    object \n",
      " 5   trap_count                160 non-null    float64\n",
      " 6   form_submission_date      160 non-null    object \n",
      " 7   is_sticky_sheet_replaced  605 non-null    bool   \n",
      " 8   lat                       605 non-null    float64\n",
      " 9   lon                       605 non-null    float64\n",
      "dtypes: bool(1), float64(3), int64(1), object(5)\n",
      "memory usage: 43.3+ KB\n"
     ]
    }
   ],
   "source": [
    "df.info()"
   ]
  },
  {
   "cell_type": "markdown",
   "metadata": {},
   "source": [
    "## Transforming the data"
   ]
  },
  {
   "cell_type": "code",
   "execution_count": 12,
   "metadata": {},
   "outputs": [],
   "source": [
    "# Let's convert the date fields into datetime object format\n",
    "df.loc[:,'date'] = pd.to_datetime(df['date'])\n",
    "df.loc[:, 'form_submission_date'] = pd.to_datetime(df['form_submission_date'])"
   ]
  },
  {
   "cell_type": "code",
   "execution_count": 17,
   "metadata": {},
   "outputs": [
    {
     "data": {
      "text/plain": [
       "53"
      ]
     },
     "execution_count": 17,
     "metadata": {},
     "output_type": "execute_result"
    }
   ],
   "source": [
    "# Let's convert the boolean field (is_sticky_sheet_replaced) to binary numbers. \n",
    "# This will be our dummy variable that we can use as a predictor.\n",
    "df.loc[:,'is_sticky_sheet_replaced'] = df['is_sticky_sheet_replaced']\\\n",
    "    .map({True:1, False:0}).sum()"
   ]
  },
  {
   "cell_type": "code",
   "execution_count": 63,
   "metadata": {},
   "outputs": [
    {
     "name": "stdout",
     "output_type": "stream",
     "text": [
      "Number of traps 10\n",
      "Number of unique longtitude 10\n",
      "Number of unique longtitude 10\n"
     ]
    }
   ],
   "source": [
    "print(f'Number of traps {df[\"trap_id_id\"].nunique()}')\n",
    "print(f'Number of unique longtitude {df[\"lon\"].nunique()}')\n",
    "print(f'Number of unique longtitude {df[\"lat\"].nunique()}')"
   ]
  },
  {
   "cell_type": "markdown",
   "metadata": {},
   "source": [
    "Since it is very unlikely to have the same exact latitude or longtitude for two or more different fields, we can safely assume that there are only one trap on each field and therefore, trap_id_id can be used as a proxy for unique field id instead of lat, lon columns or creating another unique identifier for fields."
   ]
  },
  {
   "cell_type": "markdown",
   "metadata": {},
   "source": [
    "### Some Questions\n",
    "Since there are two dates field in the data (one for the dates traps checked and the other for the date the forms submitted), we need to understand which of these fields provide a time series dimension of the data set. The answer to these could be both or only one of them. To find the relavant time components of the data, we should answer the following questions:\n",
    "1. Are the sticky sheets replaced only when the form submitted?\n",
    "2. Are the trap counts recorded only when the form submitted?"
   ]
  },
  {
   "cell_type": "code",
   "execution_count": 52,
   "metadata": {},
   "outputs": [
    {
     "name": "stdout",
     "output_type": "stream",
     "text": [
      "Filtered by the form submission date\n",
      "The number of missing values for trap_count = 0 \n"
     ]
    },
    {
     "data": {
      "text/plain": [
       "False    107\n",
       "True      53\n",
       "Name: is_sticky_sheet_replaced, dtype: int64"
      ]
     },
     "execution_count": 52,
     "metadata": {},
     "output_type": "execute_result"
    }
   ],
   "source": [
    "print('Filtered by the form submission date')\n",
    "num_null_sticky_sheet = df[df['form_submission_date'].notna()]['trap_count'].isna().sum()\n",
    "print(f\"The number of missing values for trap_count = {num_null_sticky_sheet} \")\n",
    "df[df['form_submission_date'].notna()]['is_sticky_sheet_replaced'].value_counts()"
   ]
  },
  {
   "cell_type": "code",
   "execution_count": 53,
   "metadata": {},
   "outputs": [
    {
     "name": "stdout",
     "output_type": "stream",
     "text": [
      "Filtered by the dates without form submission\n",
      "The number of missing values for trap_count = 445 \n"
     ]
    },
    {
     "data": {
      "text/plain": [
       "False    445\n",
       "Name: is_sticky_sheet_replaced, dtype: int64"
      ]
     },
     "execution_count": 53,
     "metadata": {},
     "output_type": "execute_result"
    }
   ],
   "source": [
    "print('Filtered by the dates without form submission')\n",
    "num_null_sticky_sheet = df[df['form_submission_date'].isna()]['trap_count'].isna().sum()\n",
    "print(f\"The number of missing values for trap_count = {num_null_sticky_sheet} \")\n",
    "df[df['form_submission_date'].isna()]['is_sticky_sheet_replaced'].value_counts()"
   ]
  },
  {
   "cell_type": "markdown",
   "metadata": {},
   "source": [
    "## Answers to questions above\n",
    "1. Are the sticky sheets replaced only when the form submitted?\n",
    "* Sticky sheets have been replaced only on the dates forms submitted but not all the times when the forms submitted (53 times out of 160 form submission)\n",
    "\n",
    "2. Are the trap counts recorded only when the form submitted\n",
    "* Yes\n",
    "\n",
    "**Answer to these questions indicate that `date` field does not provide any useful information. Only the Non-null `form_submission_date` can be used to drive actionable insights from the data** \n",
    "\n",
    "Therefore for further analysis we can consider only the dates the forms submitted."
   ]
  },
  {
   "cell_type": "code",
   "execution_count": 57,
   "metadata": {},
   "outputs": [],
   "source": [
    "df = df.dropna(subset=['form_submission_date']).reset_index(drop=True)"
   ]
  },
  {
   "cell_type": "markdown",
   "metadata": {},
   "source": [
    "Let's see if `date` and `form_submission_date` columns are equal."
   ]
  },
  {
   "cell_type": "code",
   "execution_count": 68,
   "metadata": {},
   "outputs": [
    {
     "data": {
      "text/html": [
       "<div>\n",
       "<style scoped>\n",
       "    .dataframe tbody tr th:only-of-type {\n",
       "        vertical-align: middle;\n",
       "    }\n",
       "\n",
       "    .dataframe tbody tr th {\n",
       "        vertical-align: top;\n",
       "    }\n",
       "\n",
       "    .dataframe thead th {\n",
       "        text-align: right;\n",
       "    }\n",
       "</style>\n",
       "<table border=\"1\" class=\"dataframe\">\n",
       "  <thead>\n",
       "    <tr style=\"text-align: right;\">\n",
       "      <th></th>\n",
       "      <th>trap_id_id</th>\n",
       "      <th>date</th>\n",
       "      <th>crop_name</th>\n",
       "      <th>region</th>\n",
       "      <th>pest</th>\n",
       "      <th>trap_count</th>\n",
       "      <th>form_submission_date</th>\n",
       "      <th>is_sticky_sheet_replaced</th>\n",
       "      <th>lat</th>\n",
       "      <th>lon</th>\n",
       "    </tr>\n",
       "  </thead>\n",
       "  <tbody>\n",
       "    <tr>\n",
       "      <th>27</th>\n",
       "      <td>84</td>\n",
       "      <td>2020-06-25</td>\n",
       "      <td>Brussels sprout</td>\n",
       "      <td>California</td>\n",
       "      <td>Diamondback moth</td>\n",
       "      <td>20.0</td>\n",
       "      <td>2020-06-26</td>\n",
       "      <td>False</td>\n",
       "      <td>36.687560</td>\n",
       "      <td>-121.791370</td>\n",
       "    </tr>\n",
       "    <tr>\n",
       "      <th>31</th>\n",
       "      <td>84</td>\n",
       "      <td>2020-07-21</td>\n",
       "      <td>Brussels sprout</td>\n",
       "      <td>California</td>\n",
       "      <td>Diamondback moth</td>\n",
       "      <td>71.0</td>\n",
       "      <td>2020-07-22</td>\n",
       "      <td>False</td>\n",
       "      <td>36.687560</td>\n",
       "      <td>-121.791370</td>\n",
       "    </tr>\n",
       "    <tr>\n",
       "      <th>39</th>\n",
       "      <td>89</td>\n",
       "      <td>2020-06-19</td>\n",
       "      <td>Broccoli</td>\n",
       "      <td>NaN</td>\n",
       "      <td>Diamondback moth</td>\n",
       "      <td>76.0</td>\n",
       "      <td>2020-06-22</td>\n",
       "      <td>False</td>\n",
       "      <td>36.191092</td>\n",
       "      <td>-121.095686</td>\n",
       "    </tr>\n",
       "    <tr>\n",
       "      <th>78</th>\n",
       "      <td>94</td>\n",
       "      <td>2020-07-08</td>\n",
       "      <td>Brussels sprout</td>\n",
       "      <td>California</td>\n",
       "      <td>Diamondback moth</td>\n",
       "      <td>31.0</td>\n",
       "      <td>2020-07-15</td>\n",
       "      <td>True</td>\n",
       "      <td>36.765970</td>\n",
       "      <td>-121.758380</td>\n",
       "    </tr>\n",
       "    <tr>\n",
       "      <th>79</th>\n",
       "      <td>94</td>\n",
       "      <td>2020-07-17</td>\n",
       "      <td>Brussels sprout</td>\n",
       "      <td>California</td>\n",
       "      <td>Diamondback moth</td>\n",
       "      <td>37.0</td>\n",
       "      <td>2020-07-20</td>\n",
       "      <td>True</td>\n",
       "      <td>36.765970</td>\n",
       "      <td>-121.758380</td>\n",
       "    </tr>\n",
       "    <tr>\n",
       "      <th>113</th>\n",
       "      <td>108</td>\n",
       "      <td>2020-06-26</td>\n",
       "      <td>Brussels sprout</td>\n",
       "      <td>California</td>\n",
       "      <td>Diamondback moth</td>\n",
       "      <td>24.0</td>\n",
       "      <td>2020-06-27</td>\n",
       "      <td>True</td>\n",
       "      <td>36.527295</td>\n",
       "      <td>-121.452742</td>\n",
       "    </tr>\n",
       "  </tbody>\n",
       "</table>\n",
       "</div>"
      ],
      "text/plain": [
       "     trap_id_id       date        crop_name      region              pest  \\\n",
       "27           84 2020-06-25  Brussels sprout  California  Diamondback moth   \n",
       "31           84 2020-07-21  Brussels sprout  California  Diamondback moth   \n",
       "39           89 2020-06-19         Broccoli         NaN  Diamondback moth   \n",
       "78           94 2020-07-08  Brussels sprout  California  Diamondback moth   \n",
       "79           94 2020-07-17  Brussels sprout  California  Diamondback moth   \n",
       "113         108 2020-06-26  Brussels sprout  California  Diamondback moth   \n",
       "\n",
       "     trap_count form_submission_date  is_sticky_sheet_replaced        lat  \\\n",
       "27         20.0           2020-06-26                     False  36.687560   \n",
       "31         71.0           2020-07-22                     False  36.687560   \n",
       "39         76.0           2020-06-22                     False  36.191092   \n",
       "78         31.0           2020-07-15                      True  36.765970   \n",
       "79         37.0           2020-07-20                      True  36.765970   \n",
       "113        24.0           2020-06-27                      True  36.527295   \n",
       "\n",
       "            lon  \n",
       "27  -121.791370  \n",
       "31  -121.791370  \n",
       "39  -121.095686  \n",
       "78  -121.758380  \n",
       "79  -121.758380  \n",
       "113 -121.452742  "
      ]
     },
     "execution_count": 68,
     "metadata": {},
     "output_type": "execute_result"
    }
   ],
   "source": [
    "mask = df['date'] == df['form_submission_date']\n",
    "df[~mask]"
   ]
  },
  {
   "cell_type": "markdown",
   "metadata": {},
   "source": [
    "Occasionally forms submitted after the field visit. However, we can still drop the `form_submission_date` and use `date` column as time index "
   ]
  },
  {
   "cell_type": "code",
   "execution_count": 77,
   "metadata": {},
   "outputs": [],
   "source": [
    "# del df['form_submission_date']\n",
    "# Let's save the final version of the data for the next step\n",
    "df.to_csv('data/pre_processed.csv',index=False)"
   ]
  },
  {
   "cell_type": "code",
   "execution_count": null,
   "metadata": {},
   "outputs": [],
   "source": []
  }
 ],
 "metadata": {
  "kernelspec": {
   "display_name": "Python 3.7.10 ('base')",
   "language": "python",
   "name": "python3"
  },
  "language_info": {
   "codemirror_mode": {
    "name": "ipython",
    "version": 3
   },
   "file_extension": ".py",
   "mimetype": "text/x-python",
   "name": "python",
   "nbconvert_exporter": "python",
   "pygments_lexer": "ipython3",
   "version": "3.7.10"
  },
  "orig_nbformat": 4,
  "vscode": {
   "interpreter": {
    "hash": "df8d1aed752314a9d547257913065e944203fab806985310c986b1c76a686716"
   }
  }
 },
 "nbformat": 4,
 "nbformat_minor": 2
}
